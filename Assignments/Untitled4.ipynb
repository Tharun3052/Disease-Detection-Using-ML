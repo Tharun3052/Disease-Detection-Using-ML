{
 "cells": [
  {
   "cell_type": "code",
   "execution_count": null,
   "id": "c797e6ac",
   "metadata": {},
   "outputs": [],
   "source": [
    "results=pd.DataFrame(data=[knn_results,svm_results,dtc_results,rfc_results],\n",
    "                     columns=['Training Accuracy','Validation Accuracy','Testing Accuracy'],\n",
    "                     index=['K Nearest Neighbors Classifier','Support Vector Machines',\n",
    "                           'Decision Trees Classifier','Random Forest Classifier']\n",
    "                    )"
   ]
  },
  {
   "cell_type": "code",
   "execution_count": null,
   "id": "f7bc337f",
   "metadata": {},
   "outputs": [],
   "source": [
    "results"
   ]
  },
  {
   "cell_type": "code",
   "execution_count": null,
   "id": "6bea1bf1",
   "metadata": {},
   "outputs": [],
   "source": [
    "a=rfc.feature_importances_"
   ]
  },
  {
   "cell_type": "code",
   "execution_count": null,
   "id": "07136633",
   "metadata": {},
   "outputs": [],
   "source": [
    "col=X.columns"
   ]
  },
  {
   "cell_type": "code",
   "execution_count": null,
   "id": "aa44fc4f",
   "metadata": {},
   "outputs": [],
   "source": [
    "feat_imp={}\n",
    "for i,j in zip(a,col):\n",
    "    feat_imp[j]=i\n",
    "    \n",
    "    "
   ]
  },
  {
   "cell_type": "code",
   "execution_count": null,
   "id": "75ecd148",
   "metadata": {},
   "outputs": [],
   "source": [
    "feat_imp"
   ]
  },
  {
   "cell_type": "code",
   "execution_count": null,
   "id": "33014b39",
   "metadata": {},
   "outputs": [],
   "source": [
    "rfc_results=[]\n",
    "knn_results=[]"
   ]
  },
  {
   "cell_type": "code",
   "execution_count": null,
   "id": "2b7c7c15",
   "metadata": {},
   "outputs": [],
   "source": [
    " for main in [0.020,0.018,0.016,0.014, 0.012,0.01, 0.008]:\n",
    "        to_drop = []\n",
    "        for i,j in zip (feat_imp.keys(), feat_imp.values()):\n",
    "            if j < main:\n",
    "                to_drop.append(i)\n",
    "X_new X.drop (to_drop, axis= 1) =\n",
    "y_new = y\n",
    "X1_train, X1_val, y1_train, y1_val = train_test_split(X_new, y_new, test_size=0.2)\n",
    "X1_test = x_test.drop(to_drop, axis = 1)\n",
    "y1_test = y_test\n",
    "rfc_new = RandomForestClassifier()\n",
    "rfc_new.fit(X1_train, y1_train)\n",
    "temp1 = model_evaluation1 (X1_train.shape[1], rfc_new)\n",
    "rfc_results.append(temp1)\n",
    "knn_new = KNeighborsClassifier()\n",
    "knn_new.fit(X1_train, y1_train)\n",
    "temp2 = model_evaluation1 (X1_train.shape[1],knn_new)\n",
    "knn_results.append(temp2)"
   ]
  },
  {
   "cell_type": "code",
   "execution_count": null,
   "id": "eb5eb14a",
   "metadata": {},
   "outputs": [],
   "source": [
    " randomf = pd.DataFrame(data = rfc_results, columns=['Number of features'\n",
    "\n"
   ]
  },
  {
   "cell_type": "code",
   "execution_count": null,
   "id": "77daa941",
   "metadata": {},
   "outputs": [],
   "source": [
    " randomf"
   ]
  },
  {
   "cell_type": "code",
   "execution_count": null,
   "id": "355702fd",
   "metadata": {},
   "outputs": [],
   "source": [
    " knn_table = pd.DataFrame(data = knn_results, columns=['Number of features',\n",
    " "
   ]
  },
  {
   "cell_type": "code",
   "execution_count": null,
   "id": "6d617c9c",
   "metadata": {},
   "outputs": [],
   "source": [
    " knn_table"
   ]
  },
  {
   "cell_type": "code",
   "execution_count": null,
   "id": "2c8b125c",
   "metadata": {},
   "outputs": [],
   "source": [
    "\n",
    "len(to_drop)\n",
    "\n"
   ]
  },
  {
   "cell_type": "code",
   "execution_count": null,
   "id": "13965166",
   "metadata": {},
   "outputs": [],
   "source": [
    "\n",
    "\n",
    "X_new = X.drop(to_drop, axis = 1)\n",
    "y_new = y\n",
    "\n"
   ]
  },
  {
   "cell_type": "code",
   "execution_count": null,
   "id": "b319bd01",
   "metadata": {},
   "outputs": [],
   "source": [
    "X_new.head()"
   ]
  },
  {
   "cell_type": "code",
   "execution_count": null,
   "id": "6f780baa",
   "metadata": {},
   "outputs": [],
   "source": [
    "X1_train, X1_val, y1_train, y1_val = train_test_split(x_new, y_new\n",
    "X1_test = x_test.drop(to_drop, axis = 1)\n",
    "y1_test = y_test\n",
    "\n",
    "\n",
    "\n",
    "\n"
   ]
  },
  {
   "cell_type": "code",
   "execution_count": null,
   "id": "29d6f5c0",
   "metadata": {},
   "outputs": [],
   "source": [
    "rfc_new = RandomForestClassifier() \n",
    "rfc_new.fit(X1_train, y1_train)"
   ]
  },
  {
   "cell_type": "code",
   "execution_count": null,
   "id": "cc98eb12",
   "metadata": {},
   "outputs": [],
   "source": [
    "y_pred = rfc_new.predict(X1_val) yt_pred = rfc_new.predict(X1_train)\n",
    "y_pred1 = rfc_new.predict(X1_test)\n",
    "print('The Training Accuracy of the algorithm is ', accuracy_score (y \n",
    "print('The Validation Accuracy of the algorithm is ', accuracy_score \n",
    "print('The Testing Accuracy of the algorithm is', accuracy_score (y1_"
   ]
  },
  {
   "cell_type": "code",
   "execution_count": null,
   "id": "b83cd06d",
   "metadata": {},
   "outputs": [],
   "source": [
    "\n",
    "knn_new = KNeighborsClassifier()\n",
    "knn_new.fit(X1_train, y1_train)\n",
    "\n",
    "\n"
   ]
  },
  {
   "cell_type": "code",
   "execution_count": null,
   "id": "7f48429d",
   "metadata": {},
   "outputs": [],
   "source": [
    "y_pred = knn_new.predict(X1_val)\n",
    "yt_pred knn_new.predict(X1_train)\n",
    "y_pred1 = knn_new.predict(x1_test)\n",
    "print('The Training Accuracy of the algorithm is ', accuracy_scor \n",
    "print('The Validation Accuracy of the algorithm is ', accuracy_sc \n",
    "print('The Testing Accuracy of the algorithm is', accuracy_score (\n"
   ]
  },
  {
   "cell_type": "code",
   "execution_count": null,
   "id": "e5c84e1a",
   "metadata": {},
   "outputs": [],
   "source": [
    "test.join(pd.DataFrame (y_pred1, columns=[\"predicted\"])) [[\"prognosis\",\"predicted\"]]"
   ]
  },
  {
   "cell_type": "code",
   "execution_count": null,
   "id": "93bca147",
   "metadata": {},
   "outputs": [],
   "source": []
  }
 ],
 "metadata": {
  "kernelspec": {
   "display_name": "Python 3 (ipykernel)",
   "language": "python",
   "name": "python3"
  },
  "language_info": {
   "codemirror_mode": {
    "name": "ipython",
    "version": 3
   },
   "file_extension": ".py",
   "mimetype": "text/x-python",
   "name": "python",
   "nbconvert_exporter": "python",
   "pygments_lexer": "ipython3",
   "version": "3.10.9"
  }
 },
 "nbformat": 4,
 "nbformat_minor": 5
}
